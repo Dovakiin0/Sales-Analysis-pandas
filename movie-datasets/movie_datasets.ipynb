{
  "nbformat": 4,
  "nbformat_minor": 5,
  "metadata": {
    "kernelspec": {
      "name": "python3",
      "display_name": "Python 3.8.10 64-bit ('venv': venv)"
    },
    "language_info": {
      "codemirror_mode": {
        "name": "ipython",
        "version": 3
      },
      "file_extension": ".py",
      "mimetype": "text/x-python",
      "name": "python",
      "nbconvert_exporter": "python",
      "pygments_lexer": "ipython3",
      "version": "3.8.10"
    },
    "colab": {
      "name": "movie_datasets.ipynb",
      "provenance": [],
      "collapsed_sections": []
    },
    "interpreter": {
      "hash": "5790e8c15b641c697924834072b03b541482dc9f00f0c8c02e949a7085b83fbe"
    }
  },
  "cells": [
    {
      "cell_type": "markdown",
      "metadata": {
        "id": "e70a525a"
      },
      "source": [
        "### Scraping data from wikipedia"
      ],
      "id": "e70a525a"
    },
    {
      "cell_type": "code",
      "metadata": {
        "id": "d8046b05"
      },
      "source": [
        "# Importing necessary libraries\n",
        "from bs4 import BeautifulSoup as bs\n",
        "import requests\n",
        "\n",
        "BASE_URL = \"https://en.wikipedia.org\""
      ],
      "id": "d8046b05",
      "execution_count": 14,
      "outputs": []
    },
    {
      "cell_type": "code",
      "metadata": {
        "id": "JJoJqZwTwjAC"
      },
      "source": [
        "import pickle\n",
        "# Save with pickle\n",
        "# Save data in a file\n",
        "def save_data_pickle(title, data):\n",
        "    with open(title, \"wb\") as fp:\n",
        "        pickle.dump(data, fp)\n",
        "\n",
        "# Load data from file\n",
        "def load_data_pickle(title):\n",
        "    with open(title, \"rb\") as fp:\n",
        "        return pickle.load(fp)"
      ],
      "id": "JJoJqZwTwjAC",
      "execution_count": 3,
      "outputs": []
    },
    {
      "cell_type": "code",
      "metadata": {
        "id": "c8d31c3b"
      },
      "source": [
        "def get_content_value(row_data):\n",
        "    if row_data.find(\"li\"):\n",
        "        return [li.get_text(\" \", strip=True).replace(\"\\xa0\",\" \") for li in row_data.find_all(\"li\")]\n",
        "    elif row_data.find(\"br\"):\n",
        "        return [text for text in row_data.stripped_strings]\n",
        "    else:\n",
        "        return row_data.get_text(\" \",strip = True).replace(\"\\xa0\",\" \")\n",
        "\n",
        "# get all information from the info box in wikipedia\n",
        "def get_info_box(url):\n",
        "    r = requests.get(url)\n",
        "    soup = bs(r.content)\n",
        "    info_box = soup.find(class_=\"infobox vevent\")\n",
        "    info_rows = info_box.find_all(\"tr\")\n",
        "    \n",
        "    clean_tags(soup)\n",
        "    \n",
        "    movie_info = {}\n",
        "    for index, row in enumerate(info_rows):\n",
        "        if index == 0:\n",
        "            movie_info[\"title\"] = row.find(\"th\").get_text(\" \", strip=True)\n",
        "        else:\n",
        "            if row.find(\"th\"):\n",
        "                content_key = row.find(\"th\").get_text(\" \", strip=True)\n",
        "                content_value =  get_content_value(row.find(\"td\"))\n",
        "                movie_info[content_key] = content_value\n",
        "    return movie_info\n",
        "\n",
        "# clean references and extra dates\n",
        "def clean_tags(soup):\n",
        "    for tag in soup.find_all([\"sup\", \"span\"]):\n",
        "        tag.decompose()"
      ],
      "id": "c8d31c3b",
      "execution_count": 4,
      "outputs": []
    },
    {
      "cell_type": "code",
      "metadata": {
        "id": "Ntn4qp-i0ZPO"
      },
      "source": [
        "url_list = []\n",
        "def get_urls():\n",
        "  r = requests.get(\"https://en.wikipedia.org/wiki/List_of_Walt_Disney_Pictures_films\")\n",
        "  soup = bs(r.content)\n",
        "  movies = soup.select(\".wikitable.sortable i a\")\n",
        "  for index,movie in enumerate(movies):\n",
        "      try:\n",
        "        relative_path = movie['href']\n",
        "        url_list.append(relative_path)\n",
        "      except Exception as e:\n",
        "        print(e)\n",
        "get_urls()\n",
        "url_chunks = [url_list[x:x+100] for x in range(0, len(url_list), 100)]"
      ],
      "id": "Ntn4qp-i0ZPO",
      "execution_count": 5,
      "outputs": []
    },
    {
      "cell_type": "code",
      "metadata": {
        "colab": {
          "base_uri": "https://localhost:8080/"
        },
        "id": "d308d824",
        "outputId": "b30f42e4-fbd0-44b7-9493-513ed3aa970d"
      },
      "source": [
        "import time\n",
        "import threading\n",
        "movies_data = []\n",
        "\n",
        "def get_movies_info(uri_list):\n",
        "  for urls in uri_list:\n",
        "    try:\n",
        "      movies_data.append(get_info_box(BASE_URL+urls))\n",
        "    except Exception as e:\n",
        "      print(f\"Error in {urls}\")\n",
        "\n",
        "t1 = threading.Thread(target=get_movies_info, args=([url_chunks[0]]))\n",
        "t2 = threading.Thread(target=get_movies_info, args=([url_chunks[1]]))\n",
        "t3 = threading.Thread(target=get_movies_info, args=([url_chunks[2]]))\n",
        "t4 = threading.Thread(target=get_movies_info, args=([url_chunks[3]]))\n",
        "t5 = threading.Thread(target=get_movies_info, args=([url_chunks[4]]))\n",
        "\n",
        "t1.start()\n",
        "t2.start()\n",
        "t3.start()\n",
        "t4.start()\n",
        "t5.start()\n",
        "\n",
        "t1.join()\n",
        "t2.join()\n",
        "t3.join()\n",
        "t4.join()\n",
        "t5.join()"
      ],
      "id": "d308d824",
      "execution_count": 6,
      "outputs": [
        {
          "output_type": "stream",
          "name": "stdout",
          "text": [
            "Error in /wiki/True-Life_Adventures\n",
            "Error in /wiki/The_Omega_Connection\n",
            "Error in /wiki/Zorro_(1957_TV_series)#Theatrical\n",
            "Error in /wiki/Zorro_(1957_TV_series)#Theatrical\n",
            "Error in /wiki/Tim_Federle#Fiction\n"
          ]
        }
      ]
    },
    {
      "cell_type": "markdown",
      "metadata": {
        "id": "0084a5c1"
      },
      "source": [
        "#### Reformat Data"
      ],
      "id": "0084a5c1"
    },
    {
      "cell_type": "code",
      "metadata": {
        "id": "b25295fb"
      },
      "source": [
        "# Get numerical value from 'Running time' String\n",
        "def minute_to_integer(running_time):\n",
        "  if running_time == \"N/A\":\n",
        "    return None\n",
        "  if isinstance(running_time, list):\n",
        "    return running_time[0].split(\" \")[0]\n",
        "  else:\n",
        "    return int(running_time.split(\" \")[0])\n",
        "\n",
        "for movie in movies_data:\n",
        "  movie[\"Running time (int)\"] = minute_to_integer(movie.get(\"Running time\", \"N/A\"))"
      ],
      "id": "b25295fb",
      "execution_count": 7,
      "outputs": []
    },
    {
      "cell_type": "code",
      "metadata": {
        "id": "KxjnmtZxWoro"
      },
      "source": [
        "# Convert budget box and box office to floats value eg: $79.9 million to 79900000\n",
        "# with regex\n",
        "import re\n",
        "\n",
        "amounts = r\"thousand|million|billion\"\n",
        "number = r\"\\d+(,\\d{3})*\\.*\\d*\"\n",
        "standard = fr\"\\${number}(-|\\sto\\s)?({number})?\\s({amounts})\"\n",
        "\n",
        "def word_to_value(word):\n",
        "\tvalue_dict = {\"thousand\": 1000, \"million\": 1000000, \"billion\": 1000000000}\n",
        "\treturn value_dict.get(word.lower(), 1)\n",
        "\n",
        "def parse_word_syntax(string):\n",
        "\tstripped_string = string.replace(\",\", \"\")\n",
        "\tvalue = float(re.search(number, stripped_string).group())\n",
        "\tmodifier = word_to_value(re.search(amounts, string, flags=re.I).group())\n",
        "\treturn value*modifier\n",
        "\n",
        "def parse_value_syntax(string):\n",
        "\tstripped_string = string.replace(\",\", \"\")\n",
        "\treturn float(re.search(number, stripped_string).group())\n",
        "\n",
        "def money_conversion(money):\n",
        "  if money == \"N/A\":\n",
        "    return None\n",
        "\n",
        "  if type(money) == list:\n",
        "\t  money = money[0]\n",
        "\n",
        "  word_syntax = re.search(standard, money, flags=re.I)\n",
        "  value_syntax = re.search(fr\"\\${number}\", money)\n",
        "\n",
        "  if word_syntax:\n",
        "    return parse_word_syntax(word_syntax.group())\n",
        "  elif value_syntax:\n",
        "    return parse_value_syntax(value_syntax.group())\n",
        "  else:\n",
        "    return None\n",
        "\n",
        "for movie in movies_data:\n",
        "  movie[\"Budget (float)\"] = money_conversion(movie.get(\"Budget\", \"N/A\"))\n",
        "  movie[\"Box Office (float)\"] = money_conversion(movie.get(\"Box office\", \"N/A\"))"
      ],
      "id": "KxjnmtZxWoro",
      "execution_count": 8,
      "outputs": []
    },
    {
      "cell_type": "code",
      "metadata": {
        "id": "CDWVmUfOsHm3"
      },
      "source": [
        "# Convert Dates into datetimes\n",
        "from datetime import datetime\n",
        "\n",
        "dates = [movie.get(\"Release date\", \"N/A\") for movie in movies_data]\n",
        "\n",
        "def clean_date(date):\n",
        "  return date.split(\"(\")[0].strip()\n",
        "\n",
        "def date_conversion(date):\n",
        "  if type(date) == list:\n",
        "    date = date[0]\n",
        "  if date == \"N/A\":\n",
        "    return None\n",
        "\n",
        "  date_str = clean_date(date)\n",
        "  fmts = [\"%B %d, %Y\", \"d %B %Y\"]\n",
        "  for fmt in fmts:\n",
        "    try:\n",
        "      return datetime.strptime(date_str,fmt)\n",
        "    except:\n",
        "      pass\n",
        "  return None\n",
        "  \n",
        "# Add new column for reformated date time\n",
        "for movie in movies_data:\n",
        "  movie[\"Release date (datetime)\"] = date_conversion(movie.get(\"Release date\", \"N/A\"))"
      ],
      "id": "CDWVmUfOsHm3",
      "execution_count": 9,
      "outputs": []
    },
    {
      "cell_type": "code",
      "metadata": {
        "id": "0jxE1C9Mvfry"
      },
      "source": [
        "# Add IMDB scores to data\n",
        "import urllib\n",
        "import os\n",
        "from dotenv import load_dotenv\n",
        "load_dotenv()\n",
        "\n",
        "def get_omdb_info(title):\n",
        "  URL = \"http://www.omdbapi.com/?\"\n",
        "  parameters = {\"t\": title,\"apikey\": os.environ[\"api_key\"],}\n",
        "  params_encoded = urllib.parse.urlencode(parameters)\n",
        "  full_url = URL + params_encoded\n",
        "  return requests.get(full_url).json()\n",
        "\n",
        "def get_rotten_tomato_score(omdb_info):\n",
        "  ratings = omdb_info.get(\"Ratings\", [])\n",
        "  for r in ratings:\n",
        "    if r[\"Source\"] == \"Rotten Tomatoes\":\n",
        "      return r[\"Value\"]\n",
        "  return None\n",
        "\n",
        "for movie in movies_data:\n",
        "    title = movie[\"title\"]\n",
        "    omdb_info = get_omdb_info(title)\n",
        "    movie[\"imdb\"] = omdb_info.get(\"imdbRating\", None)\n",
        "    movie[\"metascore\"] = omdb_info.get(\"Metascore\", None)\n",
        "    movie[\"rotten_tomatoes\"] = get_rotten_tomato_score(omdb_info)"
      ],
      "id": "0jxE1C9Mvfry",
      "execution_count": 21,
      "outputs": []
    },
    {
      "cell_type": "code",
      "metadata": {
        "id": "XiYCIlxNQjbr"
      },
      "source": [
        "# stringify datetime to store in json\n",
        "finalized_movie = [movie.copy() for movie in movies_data]\n",
        "for movie in finalized_movie:\n",
        "  current_date = movie[\"Release date (datetime)\"]\n",
        "  if current_date:\n",
        "    movie[\"Release date (datetime)\"] = current_date.strftime(\"%B %d, %Y\")\n",
        "  else:\n",
        "    movie[\"Release date (datetime)\"] = None"
      ],
      "id": "XiYCIlxNQjbr",
      "execution_count": 22,
      "outputs": []
    },
    {
      "cell_type": "code",
      "metadata": {
        "id": "WSua0SQC0HXh"
      },
      "source": [
        "import json\n",
        "\n",
        "# Save data in a file\n",
        "def save_data(title, data):\n",
        "    with open(title, \"w\", encoding=\"utf-8\") as fp:\n",
        "        json.dump(data, fp, ensure_ascii=False, indent=2)\n",
        "\n",
        "# Load data from file\n",
        "def load_data(title):\n",
        "    with open(title, \"r\",encoding=\"utf-8\") as fp:\n",
        "        return json.load(fp)"
      ],
      "id": "WSua0SQC0HXh",
      "execution_count": 23,
      "outputs": []
    },
    {
      "cell_type": "code",
      "metadata": {
        "id": "91cac9e5"
      },
      "source": [
        "# Save in json\n",
        "save_data(\"movies_datasets_final.json\", finalized_movie)"
      ],
      "id": "91cac9e5",
      "execution_count": 24,
      "outputs": []
    },
    {
      "cell_type": "code",
      "metadata": {
        "id": "yKnyXb_YSUil"
      },
      "source": [
        "import pandas as pd\n",
        "\n",
        "df = pd.DataFrame(movies_data)\n",
        "df.to_csv(\"movie_dataset.csv\")"
      ],
      "id": "yKnyXb_YSUil",
      "execution_count": 25,
      "outputs": []
    },
    {
      "cell_type": "markdown",
      "metadata": {
        "id": "e5CPNtKFQ0eV"
      },
      "source": [
        "### Movie Dataset"
      ],
      "id": "e5CPNtKFQ0eV"
    },
    {
      "cell_type": "code",
      "metadata": {
        "id": "d78b768a"
      },
      "source": [
        "# Load reformed Data\n",
        "movie_info_datasets = load_data(\"movies_datasets_final.json\")"
      ],
      "id": "d78b768a",
      "execution_count": 26,
      "outputs": []
    },
    {
      "cell_type": "code",
      "metadata": {
        "id": "rOvToMd2Svg0"
      },
      "source": [
        "movie_info_datasets[1]"
      ],
      "id": "rOvToMd2Svg0",
      "execution_count": 30,
      "outputs": [
        {
          "output_type": "execute_result",
          "data": {
            "text/plain": [
              "{'title': 'Academy Award Review of',\n",
              " 'Production company': 'Walt Disney Productions',\n",
              " 'Release date': ['May 19, 1937'],\n",
              " 'Running time': '41 minutes (74 minutes 1966 release)',\n",
              " 'Country': 'United States',\n",
              " 'Language': 'English',\n",
              " 'Box office': '$45.472',\n",
              " 'Running time (int)': 41,\n",
              " 'Budget (float)': None,\n",
              " 'Box Office (float)': 45.472,\n",
              " 'Release date (datetime)': 'May 19, 1937',\n",
              " 'imdb': '7.1',\n",
              " 'metascore': 'N/A',\n",
              " 'rotten_tomatoes': None}"
            ]
          },
          "metadata": {},
          "execution_count": 30
        }
      ]
    },
    {
      "cell_type": "code",
      "execution_count": 29,
      "metadata": {},
      "outputs": [
        {
          "output_type": "execute_result",
          "data": {
            "text/plain": [
              "   Unnamed: 0                                       title  \\\n",
              "0           0                       March of the Penguins   \n",
              "1           1                     Academy Award Review of   \n",
              "2           2           Rudyard Kipling's The Jungle Book   \n",
              "3           3                              The Aristocats   \n",
              "4           4  Pirates of the Caribbean: Dead Man's Chest   \n",
              "\n",
              "           Directed by                                        Produced by  \\\n",
              "0          Luc Jacquet  ['Yves Darondeau', 'Christophe Lioud', 'Emmanu...   \n",
              "1                  NaN                                                NaN   \n",
              "2      Stephen Sommers                ['Edward S. Feldman', 'Raju Patel']   \n",
              "3  Wolfgang Reitherman          ['Winston Hibler', 'Wolfgang Reitherman']   \n",
              "4       Gore Verbinski                                  Jerry Bruckheimer   \n",
              "\n",
              "                                          Written by  \\\n",
              "0  ['Luc Jacquet', 'Michel Fessler', 'Jordan Robe...   \n",
              "1                                                NaN   \n",
              "2                                                NaN   \n",
              "3                                                NaN   \n",
              "4                    ['Ted Elliott', 'Terry Rossio']   \n",
              "\n",
              "                                         Narrated by  \\\n",
              "0  ['Amitabh Bachchan (Hindi)', 'Charles Berling ...   \n",
              "1                                                NaN   \n",
              "2                                                NaN   \n",
              "3                                                NaN   \n",
              "4                                                NaN   \n",
              "\n",
              "                                        Music by  \\\n",
              "0  ['Émilie Simon (France)', 'Alex Wurman (US)']   \n",
              "1                                            NaN   \n",
              "2                               Basil Poledouris   \n",
              "3                                   George Bruns   \n",
              "4                                    Hans Zimmer   \n",
              "\n",
              "                        Cinematography                         Edited by  \\\n",
              "0  ['Laurent Chalet', 'Jérôme Maison']                   Sabine Emiliani   \n",
              "1                                  NaN                               NaN   \n",
              "2                     Juan Ruiz Anchía                        Bob Ducsay   \n",
              "3                                  NaN                        Tom Acosta   \n",
              "4                       Dariusz Wolski  ['Craig Wood', 'Stephen Rivkin']   \n",
              "\n",
              "                                Production companies  ...  \\\n",
              "0  ['Wild Bunch', 'National Geographic Films', 'B...  ...   \n",
              "1                                                NaN  ...   \n",
              "2  ['Baloo Productions', 'Jungle Book Films', 'Wa...  ...   \n",
              "3                                                NaN  ...   \n",
              "4  ['Walt Disney Pictures', 'Jerry Bruckheimer Fi...  ...   \n",
              "\n",
              "                                            Starring Adaptation by  \\\n",
              "0                                                NaN           NaN   \n",
              "1                                                NaN           NaN   \n",
              "2  ['Jason Scott Lee', 'Cary Elwes', 'Lena Headey...           NaN   \n",
              "3  ['Phil Harris', 'Eva Gabor', 'Sterling Hollowa...           NaN   \n",
              "4  ['Johnny Depp', 'Orlando Bloom', 'Keira Knight...           NaN   \n",
              "\n",
              "  Animation by Traditional Simplified Countries Languages  Japanese  Hepburn  \\\n",
              "0          NaN         NaN        NaN       NaN       NaN       NaN      NaN   \n",
              "1          NaN         NaN        NaN       NaN       NaN       NaN      NaN   \n",
              "2          NaN         NaN        NaN       NaN       NaN       NaN      NaN   \n",
              "3          NaN         NaN        NaN       NaN       NaN       NaN      NaN   \n",
              "4          NaN         NaN        NaN       NaN       NaN       NaN      NaN   \n",
              "\n",
              "   Color process  \n",
              "0            NaN  \n",
              "1            NaN  \n",
              "2            NaN  \n",
              "3            NaN  \n",
              "4            NaN  \n",
              "\n",
              "[5 rows x 38 columns]"
            ],
            "text/html": "<div>\n<style scoped>\n    .dataframe tbody tr th:only-of-type {\n        vertical-align: middle;\n    }\n\n    .dataframe tbody tr th {\n        vertical-align: top;\n    }\n\n    .dataframe thead th {\n        text-align: right;\n    }\n</style>\n<table border=\"1\" class=\"dataframe\">\n  <thead>\n    <tr style=\"text-align: right;\">\n      <th></th>\n      <th>Unnamed: 0</th>\n      <th>title</th>\n      <th>Directed by</th>\n      <th>Produced by</th>\n      <th>Written by</th>\n      <th>Narrated by</th>\n      <th>Music by</th>\n      <th>Cinematography</th>\n      <th>Edited by</th>\n      <th>Production companies</th>\n      <th>...</th>\n      <th>Starring</th>\n      <th>Adaptation by</th>\n      <th>Animation by</th>\n      <th>Traditional</th>\n      <th>Simplified</th>\n      <th>Countries</th>\n      <th>Languages</th>\n      <th>Japanese</th>\n      <th>Hepburn</th>\n      <th>Color process</th>\n    </tr>\n  </thead>\n  <tbody>\n    <tr>\n      <th>0</th>\n      <td>0</td>\n      <td>March of the Penguins</td>\n      <td>Luc Jacquet</td>\n      <td>['Yves Darondeau', 'Christophe Lioud', 'Emmanu...</td>\n      <td>['Luc Jacquet', 'Michel Fessler', 'Jordan Robe...</td>\n      <td>['Amitabh Bachchan (Hindi)', 'Charles Berling ...</td>\n      <td>['Émilie Simon (France)', 'Alex Wurman (US)']</td>\n      <td>['Laurent Chalet', 'Jérôme Maison']</td>\n      <td>Sabine Emiliani</td>\n      <td>['Wild Bunch', 'National Geographic Films', 'B...</td>\n      <td>...</td>\n      <td>NaN</td>\n      <td>NaN</td>\n      <td>NaN</td>\n      <td>NaN</td>\n      <td>NaN</td>\n      <td>NaN</td>\n      <td>NaN</td>\n      <td>NaN</td>\n      <td>NaN</td>\n      <td>NaN</td>\n    </tr>\n    <tr>\n      <th>1</th>\n      <td>1</td>\n      <td>Academy Award Review of</td>\n      <td>NaN</td>\n      <td>NaN</td>\n      <td>NaN</td>\n      <td>NaN</td>\n      <td>NaN</td>\n      <td>NaN</td>\n      <td>NaN</td>\n      <td>NaN</td>\n      <td>...</td>\n      <td>NaN</td>\n      <td>NaN</td>\n      <td>NaN</td>\n      <td>NaN</td>\n      <td>NaN</td>\n      <td>NaN</td>\n      <td>NaN</td>\n      <td>NaN</td>\n      <td>NaN</td>\n      <td>NaN</td>\n    </tr>\n    <tr>\n      <th>2</th>\n      <td>2</td>\n      <td>Rudyard Kipling's The Jungle Book</td>\n      <td>Stephen Sommers</td>\n      <td>['Edward S. Feldman', 'Raju Patel']</td>\n      <td>NaN</td>\n      <td>NaN</td>\n      <td>Basil Poledouris</td>\n      <td>Juan Ruiz Anchía</td>\n      <td>Bob Ducsay</td>\n      <td>['Baloo Productions', 'Jungle Book Films', 'Wa...</td>\n      <td>...</td>\n      <td>['Jason Scott Lee', 'Cary Elwes', 'Lena Headey...</td>\n      <td>NaN</td>\n      <td>NaN</td>\n      <td>NaN</td>\n      <td>NaN</td>\n      <td>NaN</td>\n      <td>NaN</td>\n      <td>NaN</td>\n      <td>NaN</td>\n      <td>NaN</td>\n    </tr>\n    <tr>\n      <th>3</th>\n      <td>3</td>\n      <td>The Aristocats</td>\n      <td>Wolfgang Reitherman</td>\n      <td>['Winston Hibler', 'Wolfgang Reitherman']</td>\n      <td>NaN</td>\n      <td>NaN</td>\n      <td>George Bruns</td>\n      <td>NaN</td>\n      <td>Tom Acosta</td>\n      <td>NaN</td>\n      <td>...</td>\n      <td>['Phil Harris', 'Eva Gabor', 'Sterling Hollowa...</td>\n      <td>NaN</td>\n      <td>NaN</td>\n      <td>NaN</td>\n      <td>NaN</td>\n      <td>NaN</td>\n      <td>NaN</td>\n      <td>NaN</td>\n      <td>NaN</td>\n      <td>NaN</td>\n    </tr>\n    <tr>\n      <th>4</th>\n      <td>4</td>\n      <td>Pirates of the Caribbean: Dead Man's Chest</td>\n      <td>Gore Verbinski</td>\n      <td>Jerry Bruckheimer</td>\n      <td>['Ted Elliott', 'Terry Rossio']</td>\n      <td>NaN</td>\n      <td>Hans Zimmer</td>\n      <td>Dariusz Wolski</td>\n      <td>['Craig Wood', 'Stephen Rivkin']</td>\n      <td>['Walt Disney Pictures', 'Jerry Bruckheimer Fi...</td>\n      <td>...</td>\n      <td>['Johnny Depp', 'Orlando Bloom', 'Keira Knight...</td>\n      <td>NaN</td>\n      <td>NaN</td>\n      <td>NaN</td>\n      <td>NaN</td>\n      <td>NaN</td>\n      <td>NaN</td>\n      <td>NaN</td>\n      <td>NaN</td>\n      <td>NaN</td>\n    </tr>\n  </tbody>\n</table>\n<p>5 rows × 38 columns</p>\n</div>"
          },
          "metadata": {},
          "execution_count": 29
        }
      ],
      "source": [
        "df = pd.read_csv(\"movie_dataset.csv\")\n",
        "df.head()"
      ]
    }
  ]
}